{
 "cells": [
  {
   "cell_type": "code",
   "execution_count": null,
   "metadata": {},
   "outputs": [],
   "source": [
    "from copy import deepcopy\n",
    "import numpy as np\n",
    "from tqdm import tqdm\n",
    "from desk_optim_util import Group, DesksClass"
   ]
  },
  {
   "cell_type": "code",
   "execution_count": null,
   "metadata": {},
   "outputs": [],
   "source": [
    "# Parameters (touch here)\n",
    "\n",
    "# Desks are available if they are not -1\n",
    "# Island: Set of adjacent numbers except -1\n",
    "# Ocean: -1\n",
    "desks_matrix = [\n",
    "    [-1, -1, -1, -1, -1, -1, -1, -1, -1, -1, 47],\n",
    "    [-1, -1, -1, -1, -1, -1, -1, -1, -1, -1, 48],\n",
    "    [20, 23, -1, 27, 31, -1, 35, 39, -1, 43, 49],\n",
    "    [-1, -1, -1, 28, 32, -1, 36, 40, -1, 44, 50],\n",
    "    [21, 25, -1, 29, 33, -1, 37, 41, -1, 45, 51],\n",
    "    [22, 26, -1, 30, 34, -1, 38, 42, -1, 46, 52],\n",
    "    [-1, -1, -1, -1, -1, -1, -1, -1, -1, -1, 53],\n",
    "]\n",
    "\n",
    "group_list = [\n",
    "    Group(\"Nishida G\", \"西\", [37, 38, 41, 42], 4),\n",
    "    Group(\"Haruno G\", \"春\", [25, 26, 30, 52, 53], 0),\n",
    "    Group(\"Hayashi G\", \"林\", [27, 28, 29, 31], 1),\n",
    "    Group(\"Naitoh G\", \"内\", [43, 44, 45], 0),\n",
    "    Group(\"Suzuki G\", \"鈴\", [47, 48, 49], 0),\n",
    "    Group(\"Kitazawa G\", \"北\", [32, 46], 0),\n",
    "    Group(\"Hagura G\", \"羽\", [51], 1),\n",
    "    Group(\"Kida G\", \"黄\", [33], 0),\n",
    "    Group(\"Ban G\", \"番\", [39], 0),\n",
    "    Group(\"Nakano G\", \"中\", [34], 0),\n",
    "]\n",
    "\n",
    "# Beam search setting\n",
    "n_beam = 100\n",
    "n_search = 10\n",
    "n_iterate = 200"
   ]
  },
  {
   "cell_type": "code",
   "execution_count": null,
   "metadata": {},
   "outputs": [],
   "source": [
    "np.random.seed(0)\n",
    "desks_cls = DesksClass(desks_matrix, group_list)\n",
    "desk_set_remained = desks_cls.desk_set.copy()\n",
    "for g in group_list:\n",
    "    desk_set_remained -= g.existing_desks\n",
    "\n",
    "desk_set_remained = list(desk_set_remained)\n",
    "new_desk_groups = [\n",
    "    list(g.existing_desks) + [desk_set_remained.pop() for _ in range(g.n_new)]\n",
    "    for g in group_list\n",
    "]\n",
    "new_desk_groups_beam_old = []\n",
    "for i in range(n_beam):\n",
    "    new_desk_groups_i, desk_set_remained_i = desks_cls.change(deepcopy(new_desk_groups), deepcopy(desk_set_remained))\n",
    "    new_desk_groups_beam_old.append([desks_cls.get_loss(deepcopy(new_desk_groups_i)), new_desk_groups_i, desk_set_remained_i])\n",
    "\n",
    "for _ in tqdm(range(n_iterate)):\n",
    "    new_desk_groups_beam = []\n",
    "    for _, new_desk_groups, desk_set_remained in new_desk_groups_beam_old:\n",
    "        for _ in range(n_search):\n",
    "                new_desk_groups_i, desk_set_remained_i = desks_cls.change(deepcopy(new_desk_groups), deepcopy(desk_set_remained))\n",
    "                new_desk_groups_beam.append(\n",
    "                    [desks_cls.get_loss(deepcopy(new_desk_groups_i)), new_desk_groups_i, desk_set_remained_i]\n",
    "                )\n",
    "\n",
    "    new_desk_groups_beam = sorted(new_desk_groups_beam, key=lambda x: x[0])[:n_beam]\n",
    "    new_desk_groups_beam_old = deepcopy(new_desk_groups_beam)"
   ]
  },
  {
   "cell_type": "code",
   "execution_count": null,
   "metadata": {},
   "outputs": [],
   "source": [
    "for losses, res_desk_groups, _ in new_desk_groups_beam[:2]:\n",
    "    print(losses)\n",
    "    desks_matrix_cp = deepcopy(desks_matrix)\n",
    "    for i in range(desks_cls.h):\n",
    "        for j in range(desks_cls.w):\n",
    "            if desks_matrix_cp[i][j] == -1: continue\n",
    "            for desks_group, group in zip(res_desk_groups, group_list):\n",
    "                if desks_matrix_cp[i][j] in desks_group:\n",
    "                    desks_matrix_cp[i][j] = group.icon\n",
    "\n",
    "    for desks_row in desks_matrix_cp: print(desks_row)\n",
    "    print()"
   ]
  },
  {
   "cell_type": "code",
   "execution_count": null,
   "metadata": {},
   "outputs": [],
   "source": []
  }
 ],
 "metadata": {
  "kernelspec": {
   "display_name": "_",
   "language": "python",
   "name": "python3"
  },
  "language_info": {
   "codemirror_mode": {
    "name": "ipython",
    "version": 3
   },
   "file_extension": ".py",
   "mimetype": "text/x-python",
   "name": "python",
   "nbconvert_exporter": "python",
   "pygments_lexer": "ipython3",
   "version": "3.11.10"
  }
 },
 "nbformat": 4,
 "nbformat_minor": 2
}
